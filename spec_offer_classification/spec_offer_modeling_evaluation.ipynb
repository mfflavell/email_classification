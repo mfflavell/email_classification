{
 "cells": [
  {
   "cell_type": "markdown",
   "metadata": {},
   "source": [
    "# Special Offer Classification: Baseline Modeling"
   ]
  },
  {
   "cell_type": "markdown",
   "metadata": {},
   "source": [
    "Analysis by Frank Flavell"
   ]
  },
  {
   "cell_type": "markdown",
   "metadata": {},
   "source": [
    "### Subject Line Cleaning Pipeline\n",
    "* UTF-8 decoding\n",
    "* UTF-8 emoji & special character matching and replacement\n",
    "* Datatype conversion\n",
    "* Remove extraneous spaces\n",
    "* Lowercase\n",
    "* Expand Contractions\n",
    "\n",
    "### Feature Engineering\n",
    "* Sender Name\n",
    "* Email Address\n",
    "* Email Domain\n",
    "* Emoji Presence\n",
    "* Number of Emojis\n",
    "* Emoji Name(s)\n",
    "* Special Character Presence\n",
    "* Number of Special Characters\n",
    "* Special Character Name(s)\n",
    "\n",
    "### Labeling\n",
    "<br>\n",
    "<br>\n",
    "Scott and I analyzed over 4,000 subject lines and labeled them either as special offer or not special offer.  We are using this body of ~4,000 subject lines to train and test the following classification models.\n",
    "\n",
    "### Modeling\n",
    "* Dummy Classifiers: Most Frequent, stratified and uniform\n",
    "* Logistic Regression\n",
    "* Naive Bayes\n",
    "* Random Forest\n",
    "* Support Vector Machine\n",
    "\n",
    "### Target\n",
    "* 1: True\n"
   ]
  },
  {
   "cell_type": "markdown",
   "metadata": {},
   "source": [
    "## Table of Contents<span id=\"0\"></span>\n",
    "\n",
    "1. [**Train/ Test Split & Dummy Classifier**](#1)\n",
    "<br/><br/>\n",
    "2. [**Logistic Regression**](#2)\n",
    "<br/><br/>\n",
    "3. [**Naive Bayes**](#3)\n",
    "<br/><br/>\n",
    "4. [**Random Forest**](#4)\n",
    "<br/><br/>\n",
    "5. [**Support Vector Machine**](#5)\n",
    "<br/><br/>\n",
    "6. [**Evaluation & Findings**](#6)\n",
    "<br/><br/>\n",
    "7. [**In-Notebook Demo**](#6)"
   ]
  },
  {
   "cell_type": "markdown",
   "metadata": {},
   "source": [
    "# Package Import"
   ]
  },
  {
   "cell_type": "code",
   "execution_count": 29,
   "metadata": {},
   "outputs": [],
   "source": [
    "import numpy as np\n",
    "import pandas as pd\n",
    "import matplotlib.pyplot as plt\n",
    "%matplotlib inline\n",
    "import seaborn as sns\n",
    "\n",
    "#Pre-Processing\n",
    "from nltk.tokenize import RegexpTokenizer\n",
    "from nltk.stem import WordNetLemmatizer\n",
    "\n",
    "#Train/Test Split\n",
    "from sklearn.model_selection import train_test_split\n",
    "\n",
    "#Modeling Processing Pipeline\n",
    "from sklearn.pipeline import Pipeline\n",
    "from sklearn.feature_extraction.text import CountVectorizer\n",
    "from sklearn.feature_extraction.text import TfidfVectorizer\n",
    "from sklearn.feature_extraction.text import TfidfTransformer\n",
    "\n",
    "#Models\n",
    "from sklearn.dummy import DummyClassifier\n",
    "from sklearn.linear_model import LogisticRegression\n",
    "from sklearn.naive_bayes import MultinomialNB\n",
    "from sklearn.ensemble import RandomForestClassifier\n",
    "from sklearn.linear_model import SGDClassifier\n",
    "\n",
    "#Evaluation\n",
    "from sklearn import metrics\n",
    "from sklearn.metrics import classification_report\n",
    "from sklearn.metrics import confusion_matrix\n",
    "from sklearn.metrics import accuracy_score\n",
    "from sklearn.metrics import f1_score\n",
    "from sklearn.model_selection import cross_val_score\n",
    "\n",
    "import warnings\n",
    "warnings.filterwarnings('ignore')"
   ]
  },
  {
   "cell_type": "markdown",
   "metadata": {},
   "source": [
    "# Data Import and Review"
   ]
  },
  {
   "cell_type": "code",
   "execution_count": 96,
   "metadata": {},
   "outputs": [],
   "source": [
    "df = pd.read_csv('spec_offer_train_cleaned.csv')"
   ]
  },
  {
   "cell_type": "code",
   "execution_count": 97,
   "metadata": {},
   "outputs": [
    {
     "data": {
      "text/html": [
       "<div>\n",
       "<style scoped>\n",
       "    .dataframe tbody tr th:only-of-type {\n",
       "        vertical-align: middle;\n",
       "    }\n",
       "\n",
       "    .dataframe tbody tr th {\n",
       "        vertical-align: top;\n",
       "    }\n",
       "\n",
       "    .dataframe thead th {\n",
       "        text-align: right;\n",
       "    }\n",
       "</style>\n",
       "<table border=\"1\" class=\"dataframe\">\n",
       "  <thead>\n",
       "    <tr style=\"text-align: right;\">\n",
       "      <th></th>\n",
       "      <th>subject</th>\n",
       "      <th>spec_offer</th>\n",
       "      <th>emoji_in</th>\n",
       "      <th>emoji_num</th>\n",
       "      <th>emoji_name</th>\n",
       "      <th>chars_in</th>\n",
       "      <th>char_num</th>\n",
       "      <th>char_name</th>\n",
       "    </tr>\n",
       "  </thead>\n",
       "  <tbody>\n",
       "    <tr>\n",
       "      <th>0</th>\n",
       "      <td>m. frank, explore courses to prepare for your ...</td>\n",
       "      <td>1</td>\n",
       "      <td>False</td>\n",
       "      <td>0.0</td>\n",
       "      <td>None</td>\n",
       "      <td>False</td>\n",
       "      <td>0.0</td>\n",
       "      <td>None</td>\n",
       "    </tr>\n",
       "    <tr>\n",
       "      <th>1</th>\n",
       "      <td>free shipping on 1000s of styles 50-70% off</td>\n",
       "      <td>1</td>\n",
       "      <td>False</td>\n",
       "      <td>0.0</td>\n",
       "      <td>None</td>\n",
       "      <td>True</td>\n",
       "      <td>1.0</td>\n",
       "      <td>'dash'</td>\n",
       "    </tr>\n",
       "    <tr>\n",
       "      <th>2</th>\n",
       "      <td>dress up/down khaki shorts -btw, everything sh...</td>\n",
       "      <td>1</td>\n",
       "      <td>False</td>\n",
       "      <td>0.0</td>\n",
       "      <td>None</td>\n",
       "      <td>True</td>\n",
       "      <td>1.0</td>\n",
       "      <td>'dash'</td>\n",
       "    </tr>\n",
       "    <tr>\n",
       "      <th>3</th>\n",
       "      <td>last chance! free shipping + 50-70% off almost...</td>\n",
       "      <td>1</td>\n",
       "      <td>False</td>\n",
       "      <td>0.0</td>\n",
       "      <td>None</td>\n",
       "      <td>True</td>\n",
       "      <td>1.0</td>\n",
       "      <td>'dash'</td>\n",
       "    </tr>\n",
       "    <tr>\n",
       "      <th>4</th>\n",
       "      <td>fw: [external email]moms climb for free to cel...</td>\n",
       "      <td>1</td>\n",
       "      <td>False</td>\n",
       "      <td>0.0</td>\n",
       "      <td>None</td>\n",
       "      <td>False</td>\n",
       "      <td>0.0</td>\n",
       "      <td>None</td>\n",
       "    </tr>\n",
       "  </tbody>\n",
       "</table>\n",
       "</div>"
      ],
      "text/plain": [
       "                                             subject  spec_offer  emoji_in  \\\n",
       "0  m. frank, explore courses to prepare for your ...           1     False   \n",
       "1        free shipping on 1000s of styles 50-70% off           1     False   \n",
       "2  dress up/down khaki shorts -btw, everything sh...           1     False   \n",
       "3  last chance! free shipping + 50-70% off almost...           1     False   \n",
       "4  fw: [external email]moms climb for free to cel...           1     False   \n",
       "\n",
       "   emoji_num emoji_name  chars_in  char_num char_name  \n",
       "0        0.0       None     False       0.0      None  \n",
       "1        0.0       None      True       1.0    'dash'  \n",
       "2        0.0       None      True       1.0    'dash'  \n",
       "3        0.0       None      True       1.0    'dash'  \n",
       "4        0.0       None     False       0.0      None  "
      ]
     },
     "execution_count": 97,
     "metadata": {},
     "output_type": "execute_result"
    }
   ],
   "source": [
    "df.head()"
   ]
  },
  {
   "cell_type": "code",
   "execution_count": 98,
   "metadata": {},
   "outputs": [
    {
     "name": "stdout",
     "output_type": "stream",
     "text": [
      "<class 'pandas.core.frame.DataFrame'>\n",
      "RangeIndex: 4229 entries, 0 to 4228\n",
      "Data columns (total 8 columns):\n",
      " #   Column      Non-Null Count  Dtype  \n",
      "---  ------      --------------  -----  \n",
      " 0   subject     4223 non-null   object \n",
      " 1   spec_offer  4229 non-null   int64  \n",
      " 2   emoji_in    4229 non-null   bool   \n",
      " 3   emoji_num   4229 non-null   float64\n",
      " 4   emoji_name  4229 non-null   object \n",
      " 5   chars_in    4229 non-null   bool   \n",
      " 6   char_num    4229 non-null   float64\n",
      " 7   char_name   4229 non-null   object \n",
      "dtypes: bool(2), float64(2), int64(1), object(3)\n",
      "memory usage: 206.6+ KB\n"
     ]
    }
   ],
   "source": [
    "df.info()"
   ]
  },
  {
   "cell_type": "markdown",
   "metadata": {},
   "source": [
    "# <span id=\"1\"></span>1. Train/ Test Split\n",
    "#### [Return Contents](#0)"
   ]
  },
  {
   "cell_type": "code",
   "execution_count": 99,
   "metadata": {},
   "outputs": [],
   "source": [
    "X = df.subject\n",
    "y = df.spec_offer\n",
    "X_train, X_test, y_train, y_test = train_test_split(X, y, test_size=0.20, random_state = 42)"
   ]
  },
  {
   "cell_type": "code",
   "execution_count": 100,
   "metadata": {},
   "outputs": [],
   "source": [
    "spec_offer = ['False', 'True']"
   ]
  },
  {
   "cell_type": "code",
   "execution_count": 101,
   "metadata": {},
   "outputs": [],
   "source": [
    "evaluation = pd.DataFrame({'Model': [],\n",
    "                           'Details':[],\n",
    "                           'Accuracy':[],\n",
    "                           'Precision':[],\n",
    "                           'FP':[],\n",
    "                           'Recall':[],\n",
    "                           'FN':[],\n",
    "                           'F1-Score':[]})"
   ]
  },
  {
   "cell_type": "markdown",
   "metadata": {},
   "source": [
    "### Dummy Classifiers"
   ]
  },
  {
   "cell_type": "code",
   "execution_count": 103,
   "metadata": {},
   "outputs": [],
   "source": [
    "all_strategies = ['most_frequent', 'stratified', 'uniform', 'logreg', 'naive bayes', 'random forest', 'SVM']"
   ]
  },
  {
   "cell_type": "code",
   "execution_count": 104,
   "metadata": {},
   "outputs": [],
   "source": [
    "dc_strategies = ['most_frequent', 'stratified', 'uniform'] \n",
    "  \n",
    "test_scores = [] \n",
    "for s in dc_strategies: \n",
    "    dclf = DummyClassifier(strategy = s, random_state = 0) \n",
    "    dclf.fit(X_train, y_train) \n",
    "    score = dclf.score(X_test, y_test) \n",
    "    test_scores.append(score)"
   ]
  },
  {
   "cell_type": "code",
   "execution_count": 105,
   "metadata": {},
   "outputs": [
    {
     "name": "stdout",
     "output_type": "stream",
     "text": [
      "[0.458628841607565, 0.5023640661938534, 0.5106382978723404]\n"
     ]
    }
   ],
   "source": [
    "print(test_scores)"
   ]
  },
  {
   "cell_type": "code",
   "execution_count": 106,
   "metadata": {},
   "outputs": [
    {
     "data": {
      "image/png": "[encoded data removed]",
      "text/plain": [
       "<Figure size 432x288 with 1 Axes>"
      ]
     },
     "metadata": {
      "needs_background": "light"
     },
     "output_type": "display_data"
    }
   ],
   "source": [
    "pal = sns.color_palette((\"#7449f6\", \"#ee823e\"))\n",
    "sns.set_palette(pal)\n",
    "ax = sns.barplot(dc_strategies, test_scores); \n",
    "ax.set(xlabel ='Strategy', ylabel ='Test Score', title='Accuracy by Dummy Classifier') \n",
    "plt.show()"
   ]
  },
  {
   "cell_type": "markdown",
   "metadata": {},
   "source": [
    "# <span id=\"2\"></span>2. Logistic Regression\n",
    "#### [Return Contents](#0)"
   ]
  },
  {
   "cell_type": "code",
   "execution_count": 107,
   "metadata": {},
   "outputs": [],
   "source": [
    "from sklearn.naive_bayes import MultinomialNB\n",
    "from sklearn.pipeline import Pipeline\n",
    "from sklearn.feature_extraction.text import TfidfTransformer\n",
    "# INSERT VECTORIZER INSTEAD\n",
    "from sklearn.metrics import classification_report\n",
    "from sklearn.linear_model import SGDClassifier\n",
    "from sklearn.linear_model import LogisticRegression"
   ]
  },
  {
   "cell_type": "code",
   "execution_count": 108,
   "metadata": {},
   "outputs": [
    {
     "data": {
      "text/plain": [
       "numpy.ndarray"
      ]
     },
     "execution_count": 108,
     "metadata": {},
     "output_type": "execute_result"
    }
   ],
   "source": [
    "type(X_train.values.astype('U'))"
   ]
  },
  {
   "cell_type": "code",
   "execution_count": 109,
   "metadata": {
    "scrolled": true
   },
   "outputs": [
    {
     "name": "stdout",
     "output_type": "stream",
     "text": [
      "accuracy 0.9550827423167849\n",
      "              precision    recall  f1-score   support\n",
      "\n",
      "       False       0.95      0.95      0.95       388\n",
      "        True       0.96      0.96      0.96       458\n",
      "\n",
      "    accuracy                           0.96       846\n",
      "   macro avg       0.95      0.95      0.95       846\n",
      "weighted avg       0.96      0.96      0.96       846\n",
      "\n"
     ]
    },
    {
     "data": {
      "text/html": [
       "<div>\n",
       "<style scoped>\n",
       "    .dataframe tbody tr th:only-of-type {\n",
       "        vertical-align: middle;\n",
       "    }\n",
       "\n",
       "    .dataframe tbody tr th {\n",
       "        vertical-align: top;\n",
       "    }\n",
       "\n",
       "    .dataframe thead th {\n",
       "        text-align: right;\n",
       "    }\n",
       "</style>\n",
       "<table border=\"1\" class=\"dataframe\">\n",
       "  <thead>\n",
       "    <tr style=\"text-align: right;\">\n",
       "      <th></th>\n",
       "      <th>Model</th>\n",
       "      <th>Details</th>\n",
       "      <th>Accuracy</th>\n",
       "      <th>Precision</th>\n",
       "      <th>FP</th>\n",
       "      <th>Recall</th>\n",
       "      <th>FN</th>\n",
       "      <th>F1-Score</th>\n",
       "    </tr>\n",
       "  </thead>\n",
       "  <tbody>\n",
       "    <tr>\n",
       "      <th>0</th>\n",
       "      <td>Logistic Regression-1</td>\n",
       "      <td>text only</td>\n",
       "      <td>0.955</td>\n",
       "      <td>0.955</td>\n",
       "      <td>18</td>\n",
       "      <td>0.955</td>\n",
       "      <td>20</td>\n",
       "      <td>0.955</td>\n",
       "    </tr>\n",
       "  </tbody>\n",
       "</table>\n",
       "</div>"
      ],
      "text/plain": [
       "                   Model    Details  Accuracy  Precision  FP  Recall  FN  \\\n",
       "0  Logistic Regression-1  text only     0.955      0.955  18   0.955  20   \n",
       "\n",
       "   F1-Score  \n",
       "0     0.955  "
      ]
     },
     "execution_count": 109,
     "metadata": {},
     "output_type": "execute_result"
    }
   ],
   "source": [
    "logreg = Pipeline([('vect', CountVectorizer()),\n",
    "                ('tfidf', TfidfTransformer()),\n",
    "                ('clf', LogisticRegression(n_jobs=1, C=1e5)),\n",
    "               ])\n",
    "logreg.fit(X_train.values.astype('U'), y_train)\n",
    "\n",
    "y_pred_log1 = logreg.predict(X_test.values.astype('U'))\n",
    "\n",
    "print('Accuracy %s' % accuracy_score(y_test, y_pred_log1))\n",
    "test_scores.append(accuracy_score(y_test, y_pred_log1))\n",
    "print(classification_report(y_test, y_pred_log1,target_names=spec_offer))\n",
    "\n",
    "cm = metrics.confusion_matrix(y_test, y_pred_log1)\n",
    "acc = float(format(metrics.accuracy_score(y_test, y_pred_log1, sample_weight=None), '.3f'))\n",
    "prec = float(format(metrics.precision_score(y_test, y_pred_log1, average='macro'),'.3f'))\n",
    "fp = cm[0,1]\n",
    "rec = float(format(metrics.recall_score(y_test, y_pred_log1, average='macro'),'.3f'))\n",
    "fn = cm[1,0]\n",
    "f1 = float(format(metrics.f1_score(y_test, y_pred_log1, average='macro'),'.3f'))\n",
    "\n",
    "r = evaluation.shape[0]\n",
    "evaluation.loc[r] = ['Logistic Regression-1','text only',acc,prec,fp,rec,fn,f1]\n",
    "evaluation.sort_values(by = 'F1-Score', ascending=False)\n"
   ]
  },
  {
   "cell_type": "markdown",
   "metadata": {},
   "source": [
    "Testing trained model on new inputs."
   ]
  },
  {
   "cell_type": "code",
   "execution_count": 110,
   "metadata": {},
   "outputs": [],
   "source": [
    "message = ['Save 50% starting now!']"
   ]
  },
  {
   "cell_type": "code",
   "execution_count": 111,
   "metadata": {},
   "outputs": [],
   "source": [
    "pred = logreg.predict(message)"
   ]
  },
  {
   "cell_type": "code",
   "execution_count": 112,
   "metadata": {},
   "outputs": [
    {
     "data": {
      "text/plain": [
       "True"
      ]
     },
     "execution_count": 112,
     "metadata": {},
     "output_type": "execute_result"
    }
   ],
   "source": [
    "pred[0] == 1"
   ]
  },
  {
   "cell_type": "code",
   "execution_count": 113,
   "metadata": {},
   "outputs": [
    {
     "data": {
      "image/png": "[encoded data removed]",
      "text/plain": [
       "<Figure size 720x720 with 2 Axes>"
      ]
     },
     "metadata": {
      "needs_background": "light"
     },
     "output_type": "display_data"
    }
   ],
   "source": [
    "conf_mat = confusion_matrix(y_test, y_pred_log1)\n",
    "fig, ax = plt.subplots(figsize=(10,10))\n",
    "sns.heatmap(conf_mat, annot=True, fmt='d',\n",
    "            xticklabels=spec_offer, yticklabels=spec_offer)\n",
    "plt.ylabel('Actual')\n",
    "plt.xlabel('Predicted')\n",
    "plt.show()"
   ]
  },
  {
   "cell_type": "markdown",
   "metadata": {},
   "source": [
    "# <span id=\"3\"></span>3. Naive Bayes\n",
    "#### [Return Contents](#0)"
   ]
  },
  {
   "cell_type": "code",
   "execution_count": 114,
   "metadata": {},
   "outputs": [
    {
     "name": "stdout",
     "output_type": "stream",
     "text": [
      "accuracy 0.9231678486997635\n",
      "              precision    recall  f1-score   support\n",
      "\n",
      "       False       0.97      0.86      0.91       388\n",
      "        True       0.89      0.98      0.93       458\n",
      "\n",
      "    accuracy                           0.92       846\n",
      "   macro avg       0.93      0.92      0.92       846\n",
      "weighted avg       0.93      0.92      0.92       846\n",
      "\n"
     ]
    },
    {
     "data": {
      "text/html": [
       "<div>\n",
       "<style scoped>\n",
       "    .dataframe tbody tr th:only-of-type {\n",
       "        vertical-align: middle;\n",
       "    }\n",
       "\n",
       "    .dataframe tbody tr th {\n",
       "        vertical-align: top;\n",
       "    }\n",
       "\n",
       "    .dataframe thead th {\n",
       "        text-align: right;\n",
       "    }\n",
       "</style>\n",
       "<table border=\"1\" class=\"dataframe\">\n",
       "  <thead>\n",
       "    <tr style=\"text-align: right;\">\n",
       "      <th></th>\n",
       "      <th>Model</th>\n",
       "      <th>Details</th>\n",
       "      <th>Accuracy</th>\n",
       "      <th>Precision</th>\n",
       "      <th>FP</th>\n",
       "      <th>Recall</th>\n",
       "      <th>FN</th>\n",
       "      <th>F1-Score</th>\n",
       "    </tr>\n",
       "  </thead>\n",
       "  <tbody>\n",
       "    <tr>\n",
       "      <th>0</th>\n",
       "      <td>Logistic Regression-1</td>\n",
       "      <td>text only</td>\n",
       "      <td>0.955</td>\n",
       "      <td>0.955</td>\n",
       "      <td>18</td>\n",
       "      <td>0.955</td>\n",
       "      <td>20</td>\n",
       "      <td>0.955</td>\n",
       "    </tr>\n",
       "    <tr>\n",
       "      <th>1</th>\n",
       "      <td>Naive Bayes-1</td>\n",
       "      <td>text only</td>\n",
       "      <td>0.923</td>\n",
       "      <td>0.931</td>\n",
       "      <td>56</td>\n",
       "      <td>0.918</td>\n",
       "      <td>9</td>\n",
       "      <td>0.922</td>\n",
       "    </tr>\n",
       "  </tbody>\n",
       "</table>\n",
       "</div>"
      ],
      "text/plain": [
       "                   Model    Details  Accuracy  Precision  FP  Recall  FN  \\\n",
       "0  Logistic Regression-1  text only     0.955      0.955  18   0.955  20   \n",
       "1          Naive Bayes-1  text only     0.923      0.931  56   0.918   9   \n",
       "\n",
       "   F1-Score  \n",
       "0     0.955  \n",
       "1     0.922  "
      ]
     },
     "execution_count": 114,
     "metadata": {},
     "output_type": "execute_result"
    }
   ],
   "source": [
    "nb = Pipeline([('vect', CountVectorizer()),\n",
    "               ('tfidf', TfidfTransformer()),\n",
    "               ('clf', MultinomialNB()),\n",
    "              ])\n",
    "nb.fit(X_train.values.astype('U'), y_train)\n",
    "\n",
    "y_pred_nb1 = nb.predict(X_test.values.astype('U'))\n",
    "\n",
    "print('accuracy %s' % accuracy_score(y_test, y_pred_nb1))\n",
    "test_scores.append(accuracy_score(y_test, y_pred_nb1))\n",
    "print(classification_report(y_test, y_pred_nb1,target_names=spec_offer))\n",
    "\n",
    "cm = metrics.confusion_matrix(y_test, y_pred_nb1)\n",
    "acc = float(format(metrics.accuracy_score(y_test, y_pred_nb1, sample_weight=None), '.3f'))\n",
    "prec = float(format(metrics.precision_score(y_test, y_pred_nb1, average='macro'),'.3f'))\n",
    "fp = cm[0,1]\n",
    "rec = float(format(metrics.recall_score(y_test, y_pred_nb1, average='macro'),'.3f'))\n",
    "fn = cm[1,0]\n",
    "f1 = float(format(metrics.f1_score(y_test, y_pred_nb1, average='macro'),'.3f'))\n",
    "\n",
    "r = evaluation.shape[0]\n",
    "evaluation.loc[r] = ['Naive Bayes-1','text only',acc,prec,fp,rec,fn,f1]\n",
    "evaluation.sort_values(by = 'F1-Score', ascending=False)"
   ]
  },
  {
   "cell_type": "markdown",
   "metadata": {},
   "source": [
    "# <span id=\"4\"></span>4. Random Forest\n",
    "#### [Return Contents](#0)"
   ]
  },
  {
   "cell_type": "code",
   "execution_count": 115,
   "metadata": {},
   "outputs": [
    {
     "name": "stdout",
     "output_type": "stream",
     "text": [
      "accuracy 0.8699763593380615\n",
      "              precision    recall  f1-score   support\n",
      "\n",
      "       False       0.79      0.98      0.87       388\n",
      "        True       0.98      0.78      0.87       458\n",
      "\n",
      "    accuracy                           0.87       846\n",
      "   macro avg       0.88      0.88      0.87       846\n",
      "weighted avg       0.89      0.87      0.87       846\n",
      "\n"
     ]
    },
    {
     "data": {
      "text/html": [
       "<div>\n",
       "<style scoped>\n",
       "    .dataframe tbody tr th:only-of-type {\n",
       "        vertical-align: middle;\n",
       "    }\n",
       "\n",
       "    .dataframe tbody tr th {\n",
       "        vertical-align: top;\n",
       "    }\n",
       "\n",
       "    .dataframe thead th {\n",
       "        text-align: right;\n",
       "    }\n",
       "</style>\n",
       "<table border=\"1\" class=\"dataframe\">\n",
       "  <thead>\n",
       "    <tr style=\"text-align: right;\">\n",
       "      <th></th>\n",
       "      <th>Model</th>\n",
       "      <th>Details</th>\n",
       "      <th>Accuracy</th>\n",
       "      <th>Precision</th>\n",
       "      <th>FP</th>\n",
       "      <th>Recall</th>\n",
       "      <th>FN</th>\n",
       "      <th>F1-Score</th>\n",
       "    </tr>\n",
       "  </thead>\n",
       "  <tbody>\n",
       "    <tr>\n",
       "      <th>0</th>\n",
       "      <td>Logistic Regression-1</td>\n",
       "      <td>text only</td>\n",
       "      <td>0.955</td>\n",
       "      <td>0.955</td>\n",
       "      <td>18</td>\n",
       "      <td>0.955</td>\n",
       "      <td>20</td>\n",
       "      <td>0.955</td>\n",
       "    </tr>\n",
       "    <tr>\n",
       "      <th>1</th>\n",
       "      <td>Naive Bayes-1</td>\n",
       "      <td>text only</td>\n",
       "      <td>0.923</td>\n",
       "      <td>0.931</td>\n",
       "      <td>56</td>\n",
       "      <td>0.918</td>\n",
       "      <td>9</td>\n",
       "      <td>0.922</td>\n",
       "    </tr>\n",
       "    <tr>\n",
       "      <th>2</th>\n",
       "      <td>Random Forest-1</td>\n",
       "      <td>text only</td>\n",
       "      <td>0.870</td>\n",
       "      <td>0.884</td>\n",
       "      <td>7</td>\n",
       "      <td>0.879</td>\n",
       "      <td>103</td>\n",
       "      <td>0.870</td>\n",
       "    </tr>\n",
       "  </tbody>\n",
       "</table>\n",
       "</div>"
      ],
      "text/plain": [
       "                   Model    Details  Accuracy  Precision  FP  Recall   FN  \\\n",
       "0  Logistic Regression-1  text only     0.955      0.955  18   0.955   20   \n",
       "1          Naive Bayes-1  text only     0.923      0.931  56   0.918    9   \n",
       "2        Random Forest-1  text only     0.870      0.884   7   0.879  103   \n",
       "\n",
       "   F1-Score  \n",
       "0     0.955  \n",
       "1     0.922  \n",
       "2     0.870  "
      ]
     },
     "execution_count": 115,
     "metadata": {},
     "output_type": "execute_result"
    }
   ],
   "source": [
    "rdf = Pipeline([('vect', CountVectorizer()),\n",
    "                ('tfidf', TfidfTransformer()),\n",
    "                ('clf', RandomForestClassifier(n_estimators=100, max_depth= 5)),\n",
    "               ])\n",
    "rdf.fit(X_train.values.astype('U'), y_train)\n",
    "\n",
    "y_pred_rf1 = rdf.predict(X_test.values.astype('U'))\n",
    "\n",
    "print('accuracy %s' % accuracy_score(y_test, y_pred_rf1))\n",
    "test_scores.append(accuracy_score(y_test, y_pred_rf1))\n",
    "print(classification_report(y_test, y_pred_rf1,target_names=spec_offer))\n",
    "\n",
    "cm = metrics.confusion_matrix(y_test, y_pred_rf1)\n",
    "acc = float(format(metrics.accuracy_score(y_test, y_pred_rf1, sample_weight=None), '.3f'))\n",
    "prec = float(format(metrics.precision_score(y_test, y_pred_rf1, average='macro'),'.3f'))\n",
    "fp = cm[0,1]\n",
    "rec = float(format(metrics.recall_score(y_test, y_pred_rf1, average='macro'),'.3f'))\n",
    "fn = cm[1,0]\n",
    "f1 = float(format(metrics.f1_score(y_test, y_pred_rf1, average='macro'),'.3f'))\n",
    "\n",
    "r = evaluation.shape[0]\n",
    "evaluation.loc[r] = ['Random Forest-1','text only',acc,prec,fp,rec,fn,f1]\n",
    "evaluation.sort_values(by = 'F1-Score', ascending=False)"
   ]
  },
  {
   "cell_type": "markdown",
   "metadata": {},
   "source": [
    "# <span id=\"5\"></span>5. Support Vector Machine\n",
    "#### [Return Contents](#0)"
   ]
  },
  {
   "cell_type": "code",
   "execution_count": 116,
   "metadata": {
    "scrolled": false
   },
   "outputs": [
    {
     "name": "stdout",
     "output_type": "stream",
     "text": [
      "accuracy 0.9456264775413712\n",
      "              precision    recall  f1-score   support\n",
      "\n",
      "       False       0.91      0.98      0.94       388\n",
      "        True       0.98      0.92      0.95       458\n",
      "\n",
      "    accuracy                           0.95       846\n",
      "   macro avg       0.95      0.95      0.95       846\n",
      "weighted avg       0.95      0.95      0.95       846\n",
      "\n"
     ]
    },
    {
     "data": {
      "text/html": [
       "<div>\n",
       "<style scoped>\n",
       "    .dataframe tbody tr th:only-of-type {\n",
       "        vertical-align: middle;\n",
       "    }\n",
       "\n",
       "    .dataframe tbody tr th {\n",
       "        vertical-align: top;\n",
       "    }\n",
       "\n",
       "    .dataframe thead th {\n",
       "        text-align: right;\n",
       "    }\n",
       "</style>\n",
       "<table border=\"1\" class=\"dataframe\">\n",
       "  <thead>\n",
       "    <tr style=\"text-align: right;\">\n",
       "      <th></th>\n",
       "      <th>Model</th>\n",
       "      <th>Details</th>\n",
       "      <th>Accuracy</th>\n",
       "      <th>Precision</th>\n",
       "      <th>FP</th>\n",
       "      <th>Recall</th>\n",
       "      <th>FN</th>\n",
       "      <th>F1-Score</th>\n",
       "    </tr>\n",
       "  </thead>\n",
       "  <tbody>\n",
       "    <tr>\n",
       "      <th>0</th>\n",
       "      <td>Logistic Regression-1</td>\n",
       "      <td>text only</td>\n",
       "      <td>0.955</td>\n",
       "      <td>0.955</td>\n",
       "      <td>18</td>\n",
       "      <td>0.955</td>\n",
       "      <td>20</td>\n",
       "      <td>0.955</td>\n",
       "    </tr>\n",
       "    <tr>\n",
       "      <th>3</th>\n",
       "      <td>SVM-1</td>\n",
       "      <td>text only</td>\n",
       "      <td>0.946</td>\n",
       "      <td>0.945</td>\n",
       "      <td>8</td>\n",
       "      <td>0.948</td>\n",
       "      <td>38</td>\n",
       "      <td>0.946</td>\n",
       "    </tr>\n",
       "    <tr>\n",
       "      <th>1</th>\n",
       "      <td>Naive Bayes-1</td>\n",
       "      <td>text only</td>\n",
       "      <td>0.923</td>\n",
       "      <td>0.931</td>\n",
       "      <td>56</td>\n",
       "      <td>0.918</td>\n",
       "      <td>9</td>\n",
       "      <td>0.922</td>\n",
       "    </tr>\n",
       "    <tr>\n",
       "      <th>2</th>\n",
       "      <td>Random Forest-1</td>\n",
       "      <td>text only</td>\n",
       "      <td>0.870</td>\n",
       "      <td>0.884</td>\n",
       "      <td>7</td>\n",
       "      <td>0.879</td>\n",
       "      <td>103</td>\n",
       "      <td>0.870</td>\n",
       "    </tr>\n",
       "  </tbody>\n",
       "</table>\n",
       "</div>"
      ],
      "text/plain": [
       "                   Model    Details  Accuracy  Precision  FP  Recall   FN  \\\n",
       "0  Logistic Regression-1  text only     0.955      0.955  18   0.955   20   \n",
       "3                  SVM-1  text only     0.946      0.945   8   0.948   38   \n",
       "1          Naive Bayes-1  text only     0.923      0.931  56   0.918    9   \n",
       "2        Random Forest-1  text only     0.870      0.884   7   0.879  103   \n",
       "\n",
       "   F1-Score  \n",
       "0     0.955  \n",
       "3     0.946  \n",
       "1     0.922  \n",
       "2     0.870  "
      ]
     },
     "execution_count": 116,
     "metadata": {},
     "output_type": "execute_result"
    }
   ],
   "source": [
    "sgd = Pipeline([('vect', CountVectorizer()),\n",
    "                ('tfidf', TfidfTransformer()),\n",
    "                ('clf', SGDClassifier(loss='hinge', penalty='l2',alpha=1e-3, random_state=42, max_iter=5, tol=None)),\n",
    "               ])\n",
    "sgd.fit(X_train.values.astype('U'), y_train)\n",
    "\n",
    "y_pred_svm1 = sgd.predict(X_test.values.astype('U'))\n",
    "\n",
    "print('accuracy %s' % accuracy_score(y_test, y_pred_svm1))\n",
    "test_scores.append(accuracy_score(y_test, y_pred_svm1))\n",
    "print(classification_report(y_test, y_pred_svm1,target_names=spec_offer))\n",
    "\n",
    "cm = metrics.confusion_matrix(y_test, y_pred_svm1)\n",
    "acc = float(format(metrics.accuracy_score(y_test, y_pred_svm1, sample_weight=None), '.3f'))\n",
    "prec = float(format(metrics.precision_score(y_test, y_pred_svm1, average='macro'),'.3f'))\n",
    "fp = cm[0,1]\n",
    "rec = float(format(metrics.recall_score(y_test, y_pred_svm1, average='macro'),'.3f'))\n",
    "fn = cm[1,0]\n",
    "f1 = float(format(metrics.f1_score(y_test, y_pred_svm1, average='macro'),'.3f'))\n",
    "\n",
    "r = evaluation.shape[0]\n",
    "evaluation.loc[r] = ['SVM-1','text only',acc,prec,fp,rec,fn,f1]\n",
    "evaluation.sort_values(by = 'F1-Score', ascending=False)"
   ]
  },
  {
   "cell_type": "code",
   "execution_count": 117,
   "metadata": {},
   "outputs": [
    {
     "data": {
      "text/plain": [
       "[0.458628841607565,\n",
       " 0.5023640661938534,\n",
       " 0.5106382978723404,\n",
       " 0.9550827423167849,\n",
       " 0.9231678486997635,\n",
       " 0.8699763593380615,\n",
       " 0.9456264775413712]"
      ]
     },
     "execution_count": 117,
     "metadata": {},
     "output_type": "execute_result"
    }
   ],
   "source": [
    "test_scores"
   ]
  },
  {
   "cell_type": "code",
   "execution_count": 118,
   "metadata": {
    "scrolled": true
   },
   "outputs": [
    {
     "data": {
      "image/png": "[encoded data removed]",
      "text/plain": [
       "<Figure size 432x288 with 1 Axes>"
      ]
     },
     "metadata": {
      "needs_background": "light"
     },
     "output_type": "display_data"
    }
   ],
   "source": [
    "# all_strategies = ['Most_Freq', 'Strat', 'Uniform', 'LogReg', 'NB', 'RF', 'SVM']\n",
    "pal = sns.color_palette((\"#7449f6\", \"#ee823e\"))\n",
    "sns.set_palette(pal)\n",
    "ax = sns.barplot(['Most_Freq', 'Strat', 'Uniform', 'LogReg', 'NB', 'RF', 'SVM'], test_scores); \n",
    "ax.set(xlabel ='Strategy', ylabel ='Test Score', title='Model Accuracy') \n",
    "plt.show()"
   ]
  },
  {
   "cell_type": "markdown",
   "metadata": {},
   "source": [
    "# <span id=\"6\"></span>6. Evaluation & Findings\n",
    "#### [Return Contents](#0)"
   ]
  },
  {
   "cell_type": "markdown",
   "metadata": {},
   "source": [
    "### Evaluation\n",
    "\n",
    "The best was logistic regression with a 95% accuracy and an F1-Score of 0.955.  I focused model evaluation primarily on the F1-Score because the cost of a false negative and a false positive are essentially the same - both result in a false prediction for the user: a marketer using this program to analyze their email subject lines.\n",
    "\n",
    "### Findings\n",
    "\n",
    "**False Positives**\n",
    "\n",
    "Subject lines that were incorrectly categorized as special promotions.\n",
    "\n",
    "After analyzing the false positives, I noticed:\n",
    "* Some of the observations were mislabeled and were actually correctly classified.\n",
    "* The other subject lines were product promotions, very similar in style to a special offer but they simply promote a product without any deals associated with the promotion.  We will need to include more product promotions in model training to improve performance.\n",
    "\n",
    "**False Negatives**\n",
    "\n",
    "Subject lines that were incorrectly categorized as NOT special promotions.\n",
    "\n",
    "After analyzing the false negatives, I noticed:\n",
    "* Need to improve the cleaning pipeline to add spaces before '$' and ':' the model wasn't recognizing words collapsed together. \n",
    "* The model struggled to recogize specific techniques like putting a space between every letter in the subject line\n",
    "* The model couldn't effectively recognize certain key words in certain contexts:\n",
    "    * 'refer', 'refering', referral'\n",
    "    * 'reward', 'rewards'\n",
    "    * 'limited time:'\n",
    "    * 'perks'\n",
    "    * very specific percentages like '76% off' and \"31% off'\n",
    "    * 'savings'\n",
    "    * 'sale'\n",
    "    * 'doorbusters'\n",
    "    * more vague constructions like 'a big something just for you' and 'you deserve a reward!'\n",
    "    \n",
    "### Next Steps\n",
    "\n",
    "* Update mislabeled observations\n",
    "* Improve the cleaning pipeline\n",
    "* Expand the vocabulary around special offers and construct examples including less common special offer language. \n"
   ]
  },
  {
   "cell_type": "code",
   "execution_count": 130,
   "metadata": {},
   "outputs": [],
   "source": [
    "data = {'subject': X_test,\n",
    "        'test': y_test,\n",
    "        'logreg_pred': y_pred_log1}\n",
    "\n",
    "test_df = pd.DataFrame(data)"
   ]
  },
  {
   "cell_type": "code",
   "execution_count": 132,
   "metadata": {},
   "outputs": [
    {
     "data": {
      "text/html": [
       "<div>\n",
       "<style scoped>\n",
       "    .dataframe tbody tr th:only-of-type {\n",
       "        vertical-align: middle;\n",
       "    }\n",
       "\n",
       "    .dataframe tbody tr th {\n",
       "        vertical-align: top;\n",
       "    }\n",
       "\n",
       "    .dataframe thead th {\n",
       "        text-align: right;\n",
       "    }\n",
       "</style>\n",
       "<table border=\"1\" class=\"dataframe\">\n",
       "  <thead>\n",
       "    <tr style=\"text-align: right;\">\n",
       "      <th></th>\n",
       "      <th>subject</th>\n",
       "      <th>test</th>\n",
       "      <th>logreg_pred</th>\n",
       "    </tr>\n",
       "  </thead>\n",
       "  <tbody>\n",
       "    <tr>\n",
       "      <th>1736</th>\n",
       "      <td>you need new shorts (up to 60% off 1000s of st...</td>\n",
       "      <td>1</td>\n",
       "      <td>1</td>\n",
       "    </tr>\n",
       "    <tr>\n",
       "      <th>4021</th>\n",
       "      <td>your seesaw updates for october 6th, 2021</td>\n",
       "      <td>0</td>\n",
       "      <td>0</td>\n",
       "    </tr>\n",
       "    <tr>\n",
       "      <th>2390</th>\n",
       "      <td>book now: new session just added for mlk day!</td>\n",
       "      <td>0</td>\n",
       "      <td>1</td>\n",
       "    </tr>\n",
       "    <tr>\n",
       "      <th>908</th>\n",
       "      <td>+25% off all final sale</td>\n",
       "      <td>1</td>\n",
       "      <td>1</td>\n",
       "    </tr>\n",
       "    <tr>\n",
       "      <th>1344</th>\n",
       "      <td>surprise: free 2-day shipping</td>\n",
       "      <td>1</td>\n",
       "      <td>1</td>\n",
       "    </tr>\n",
       "  </tbody>\n",
       "</table>\n",
       "</div>"
      ],
      "text/plain": [
       "                                                subject  test  logreg_pred\n",
       "1736  you need new shorts (up to 60% off 1000s of st...     1            1\n",
       "4021          your seesaw updates for october 6th, 2021     0            0\n",
       "2390      book now: new session just added for mlk day!     0            1\n",
       "908                             +25% off all final sale     1            1\n",
       "1344                      surprise: free 2-day shipping     1            1"
      ]
     },
     "execution_count": 132,
     "metadata": {},
     "output_type": "execute_result"
    }
   ],
   "source": [
    "test_df.head()"
   ]
  },
  {
   "cell_type": "code",
   "execution_count": 133,
   "metadata": {},
   "outputs": [
    {
     "name": "stdout",
     "output_type": "stream",
     "text": [
      "<class 'pandas.core.frame.DataFrame'>\n",
      "Int64Index: 846 entries, 1736 to 257\n",
      "Data columns (total 3 columns):\n",
      " #   Column       Non-Null Count  Dtype \n",
      "---  ------       --------------  ----- \n",
      " 0   subject      844 non-null    object\n",
      " 1   test         846 non-null    int64 \n",
      " 2   logreg_pred  846 non-null    int64 \n",
      "dtypes: int64(2), object(1)\n",
      "memory usage: 26.4+ KB\n"
     ]
    }
   ],
   "source": [
    "test_df.info()"
   ]
  },
  {
   "cell_type": "markdown",
   "metadata": {},
   "source": [
    "## False Positives"
   ]
  },
  {
   "cell_type": "code",
   "execution_count": 135,
   "metadata": {
    "scrolled": true
   },
   "outputs": [
    {
     "data": {
      "text/html": [
       "<div>\n",
       "<style scoped>\n",
       "    .dataframe tbody tr th:only-of-type {\n",
       "        vertical-align: middle;\n",
       "    }\n",
       "\n",
       "    .dataframe tbody tr th {\n",
       "        vertical-align: top;\n",
       "    }\n",
       "\n",
       "    .dataframe thead th {\n",
       "        text-align: right;\n",
       "    }\n",
       "</style>\n",
       "<table border=\"1\" class=\"dataframe\">\n",
       "  <thead>\n",
       "    <tr style=\"text-align: right;\">\n",
       "      <th></th>\n",
       "      <th>subject</th>\n",
       "      <th>test</th>\n",
       "      <th>logreg_pred</th>\n",
       "    </tr>\n",
       "  </thead>\n",
       "  <tbody>\n",
       "    <tr>\n",
       "      <th>2390</th>\n",
       "      <td>book now: new session just added for mlk day!</td>\n",
       "      <td>0</td>\n",
       "      <td>1</td>\n",
       "    </tr>\n",
       "    <tr>\n",
       "      <th>2632</th>\n",
       "      <td>save on skating + snacks + drinks during march...</td>\n",
       "      <td>0</td>\n",
       "      <td>1</td>\n",
       "    </tr>\n",
       "    <tr>\n",
       "      <th>3125</th>\n",
       "      <td>get your summer skate on!</td>\n",
       "      <td>0</td>\n",
       "      <td>1</td>\n",
       "    </tr>\n",
       "    <tr>\n",
       "      <th>3539</th>\n",
       "      <td>just in &amp; just right styles</td>\n",
       "      <td>0</td>\n",
       "      <td>1</td>\n",
       "    </tr>\n",
       "    <tr>\n",
       "      <th>3944</th>\n",
       "      <td>power up with big laptop</td>\n",
       "      <td>0</td>\n",
       "      <td>1</td>\n",
       "    </tr>\n",
       "    <tr>\n",
       "      <th>3109</th>\n",
       "      <td>bbq season is back</td>\n",
       "      <td>0</td>\n",
       "      <td>1</td>\n",
       "    </tr>\n",
       "    <tr>\n",
       "      <th>3127</th>\n",
       "      <td>new styles added! 0</td>\n",
       "      <td>0</td>\n",
       "      <td>1</td>\n",
       "    </tr>\n",
       "    <tr>\n",
       "      <th>3809</th>\n",
       "      <td>get more out of introduction to javascript</td>\n",
       "      <td>0</td>\n",
       "      <td>1</td>\n",
       "    </tr>\n",
       "    <tr>\n",
       "      <th>3526</th>\n",
       "      <td>upgrade your space and save up to</td>\n",
       "      <td>0</td>\n",
       "      <td>1</td>\n",
       "    </tr>\n",
       "    <tr>\n",
       "      <th>3443</th>\n",
       "      <td>final countdown: the end of season sale</td>\n",
       "      <td>0</td>\n",
       "      <td>1</td>\n",
       "    </tr>\n",
       "    <tr>\n",
       "      <th>3402</th>\n",
       "      <td>maximize your discount and plan ahead</td>\n",
       "      <td>0</td>\n",
       "      <td>1</td>\n",
       "    </tr>\n",
       "    <tr>\n",
       "      <th>3632</th>\n",
       "      <td>your offer at primary.com</td>\n",
       "      <td>0</td>\n",
       "      <td>1</td>\n",
       "    </tr>\n",
       "    <tr>\n",
       "      <th>3974</th>\n",
       "      <td>intro to html &amp; css, setting up your cyber lab...</td>\n",
       "      <td>0</td>\n",
       "      <td>1</td>\n",
       "    </tr>\n",
       "    <tr>\n",
       "      <th>2934</th>\n",
       "      <td>want to win a weekend getaway? enter our sweep...</td>\n",
       "      <td>0</td>\n",
       "      <td>1</td>\n",
       "    </tr>\n",
       "    <tr>\n",
       "      <th>3538</th>\n",
       "      <td>just added: the harry potter 8-film collection</td>\n",
       "      <td>0</td>\n",
       "      <td>1</td>\n",
       "    </tr>\n",
       "    <tr>\n",
       "      <th>4096</th>\n",
       "      <td>the layering event starts now!</td>\n",
       "      <td>0</td>\n",
       "      <td>1</td>\n",
       "    </tr>\n",
       "    <tr>\n",
       "      <th>2091</th>\n",
       "      <td>submit offer form</td>\n",
       "      <td>0</td>\n",
       "      <td>1</td>\n",
       "    </tr>\n",
       "    <tr>\n",
       "      <th>2171</th>\n",
       "      <td>matthew, good news-your credit could save you ...</td>\n",
       "      <td>0</td>\n",
       "      <td>1</td>\n",
       "    </tr>\n",
       "  </tbody>\n",
       "</table>\n",
       "</div>"
      ],
      "text/plain": [
       "                                                subject  test  logreg_pred\n",
       "2390      book now: new session just added for mlk day!     0            1\n",
       "2632  save on skating + snacks + drinks during march...     0            1\n",
       "3125                          get your summer skate on!     0            1\n",
       "3539                        just in & just right styles     0            1\n",
       "3944                           power up with big laptop     0            1\n",
       "3109                                 bbq season is back     0            1\n",
       "3127                                new styles added! 0     0            1\n",
       "3809         get more out of introduction to javascript     0            1\n",
       "3526                  upgrade your space and save up to     0            1\n",
       "3443            final countdown: the end of season sale     0            1\n",
       "3402              maximize your discount and plan ahead     0            1\n",
       "3632                          your offer at primary.com     0            1\n",
       "3974  intro to html & css, setting up your cyber lab...     0            1\n",
       "2934  want to win a weekend getaway? enter our sweep...     0            1\n",
       "3538     just added: the harry potter 8-film collection     0            1\n",
       "4096                     the layering event starts now!     0            1\n",
       "2091                                  submit offer form     0            1\n",
       "2171  matthew, good news-your credit could save you ...     0            1"
      ]
     },
     "execution_count": 135,
     "metadata": {},
     "output_type": "execute_result"
    }
   ],
   "source": [
    "test_df[(test_df.test == 0) & (test_df.logreg_pred == 1)]"
   ]
  },
  {
   "cell_type": "markdown",
   "metadata": {},
   "source": [
    "## False Negatives"
   ]
  },
  {
   "cell_type": "code",
   "execution_count": 136,
   "metadata": {},
   "outputs": [
    {
     "data": {
      "text/html": [
       "<div>\n",
       "<style scoped>\n",
       "    .dataframe tbody tr th:only-of-type {\n",
       "        vertical-align: middle;\n",
       "    }\n",
       "\n",
       "    .dataframe tbody tr th {\n",
       "        vertical-align: top;\n",
       "    }\n",
       "\n",
       "    .dataframe thead th {\n",
       "        text-align: right;\n",
       "    }\n",
       "</style>\n",
       "<table border=\"1\" class=\"dataframe\">\n",
       "  <thead>\n",
       "    <tr style=\"text-align: right;\">\n",
       "      <th></th>\n",
       "      <th>subject</th>\n",
       "      <th>test</th>\n",
       "      <th>logreg_pred</th>\n",
       "    </tr>\n",
       "  </thead>\n",
       "  <tbody>\n",
       "    <tr>\n",
       "      <th>1334</th>\n",
       "      <td>f l a s h / s a l e / e x t r a / 4 0 % / o f f</td>\n",
       "      <td>1</td>\n",
       "      <td>0</td>\n",
       "    </tr>\n",
       "    <tr>\n",
       "      <th>1972</th>\n",
       "      <td>you deserve a reward!</td>\n",
       "      <td>1</td>\n",
       "      <td>0</td>\n",
       "    </tr>\n",
       "    <tr>\n",
       "      <th>551</th>\n",
       "      <td>refer a friend for$500, this week only</td>\n",
       "      <td>1</td>\n",
       "      <td>0</td>\n",
       "    </tr>\n",
       "    <tr>\n",
       "      <th>2441</th>\n",
       "      <td>frank, 2 for$3 on select kleenex tissues or we...</td>\n",
       "      <td>1</td>\n",
       "      <td>0</td>\n",
       "    </tr>\n",
       "    <tr>\n",
       "      <th>2927</th>\n",
       "      <td>limited time: 10 reams for only$31.99!</td>\n",
       "      <td>1</td>\n",
       "      <td>0</td>\n",
       "    </tr>\n",
       "    <tr>\n",
       "      <th>120</th>\n",
       "      <td>pay$0/month until graduation</td>\n",
       "      <td>1</td>\n",
       "      <td>0</td>\n",
       "    </tr>\n",
       "    <tr>\n",
       "      <th>3795</th>\n",
       "      <td>kids &amp; baby sale:$6 graphic tees,$7 mix &amp; matc...</td>\n",
       "      <td>1</td>\n",
       "      <td>0</td>\n",
       "    </tr>\n",
       "    <tr>\n",
       "      <th>2281</th>\n",
       "      <td>a big something just for you</td>\n",
       "      <td>1</td>\n",
       "      <td>0</td>\n",
       "    </tr>\n",
       "    <tr>\n",
       "      <th>3137</th>\n",
       "      <td>our best perks ever. meet the new gap good rew...</td>\n",
       "      <td>1</td>\n",
       "      <td>0</td>\n",
       "    </tr>\n",
       "    <tr>\n",
       "      <th>2259</th>\n",
       "      <td>get text alerts for your best deals this holid...</td>\n",
       "      <td>1</td>\n",
       "      <td>0</td>\n",
       "    </tr>\n",
       "    <tr>\n",
       "      <th>3112</th>\n",
       "      <td>hurry! our semi-annual photo sale is almost over!</td>\n",
       "      <td>1</td>\n",
       "      <td>0</td>\n",
       "    </tr>\n",
       "    <tr>\n",
       "      <th>705</th>\n",
       "      <td>25% of students from low-income families cant ...</td>\n",
       "      <td>1</td>\n",
       "      <td>0</td>\n",
       "    </tr>\n",
       "    <tr>\n",
       "      <th>1738</th>\n",
       "      <td>celebrating mom: up to 76% off new bundles for...</td>\n",
       "      <td>1</td>\n",
       "      <td>0</td>\n",
       "    </tr>\n",
       "    <tr>\n",
       "      <th>1842</th>\n",
       "      <td>6 get this pdf w/ scaling case studies (100% g...</td>\n",
       "      <td>1</td>\n",
       "      <td>0</td>\n",
       "    </tr>\n",
       "    <tr>\n",
       "      <th>240</th>\n",
       "      <td>starting today labor day savings</td>\n",
       "      <td>1</td>\n",
       "      <td>0</td>\n",
       "    </tr>\n",
       "    <tr>\n",
       "      <th>1904</th>\n",
       "      <td>60% off canvas and wall tiles. celebrate summer</td>\n",
       "      <td>1</td>\n",
       "      <td>0</td>\n",
       "    </tr>\n",
       "    <tr>\n",
       "      <th>321</th>\n",
       "      <td>one. day. only. 9/9 deals!</td>\n",
       "      <td>1</td>\n",
       "      <td>0</td>\n",
       "    </tr>\n",
       "    <tr>\n",
       "      <th>291</th>\n",
       "      <td>doorbusters from$10:d</td>\n",
       "      <td>1</td>\n",
       "      <td>0</td>\n",
       "    </tr>\n",
       "    <tr>\n",
       "      <th>3193</th>\n",
       "      <td>matthew frank, earn up to$50 referring friends...</td>\n",
       "      <td>1</td>\n",
       "      <td>0</td>\n",
       "    </tr>\n",
       "    <tr>\n",
       "      <th>1114</th>\n",
       "      <td>meet our new tunic sweatshirt (and a bonus 31%...</td>\n",
       "      <td>1</td>\n",
       "      <td>0</td>\n",
       "    </tr>\n",
       "  </tbody>\n",
       "</table>\n",
       "</div>"
      ],
      "text/plain": [
       "                                                subject  test  logreg_pred\n",
       "1334    f l a s h / s a l e / e x t r a / 4 0 % / o f f     1            0\n",
       "1972                              you deserve a reward!     1            0\n",
       "551              refer a friend for$500, this week only     1            0\n",
       "2441  frank, 2 for$3 on select kleenex tissues or we...     1            0\n",
       "2927             limited time: 10 reams for only$31.99!     1            0\n",
       "120                        pay$0/month until graduation     1            0\n",
       "3795  kids & baby sale:$6 graphic tees,$7 mix & matc...     1            0\n",
       "2281                       a big something just for you     1            0\n",
       "3137  our best perks ever. meet the new gap good rew...     1            0\n",
       "2259  get text alerts for your best deals this holid...     1            0\n",
       "3112  hurry! our semi-annual photo sale is almost over!     1            0\n",
       "705   25% of students from low-income families cant ...     1            0\n",
       "1738  celebrating mom: up to 76% off new bundles for...     1            0\n",
       "1842  6 get this pdf w/ scaling case studies (100% g...     1            0\n",
       "240                    starting today labor day savings     1            0\n",
       "1904    60% off canvas and wall tiles. celebrate summer     1            0\n",
       "321                          one. day. only. 9/9 deals!     1            0\n",
       "291                               doorbusters from$10:d     1            0\n",
       "3193  matthew frank, earn up to$50 referring friends...     1            0\n",
       "1114  meet our new tunic sweatshirt (and a bonus 31%...     1            0"
      ]
     },
     "execution_count": 136,
     "metadata": {},
     "output_type": "execute_result"
    }
   ],
   "source": [
    "test_df[(test_df.test == 1) & (test_df.logreg_pred == 0)]"
   ]
  },
  {
   "cell_type": "markdown",
   "metadata": {},
   "source": [
    "# <span id=\"7\"></span>7. In-Notebook Demo\n",
    "#### [Return Contents](#0)"
   ]
  },
  {
   "cell_type": "markdown",
   "metadata": {},
   "source": [
    "I built a function that takes in a string and outputs a prediction and checks for validation."
   ]
  },
  {
   "cell_type": "code",
   "execution_count": 123,
   "metadata": {},
   "outputs": [],
   "source": [
    "def spec_offer(response):\n",
    "#     reponse = raw_input(\"Hi! How're you feeling today?\")\n",
    "#     cleaned = pipeline(response)\n",
    "    subject = logreg.predict([response])\n",
    "    if subject[0] == 0:\n",
    "        print('\\n')\n",
    "        print(\"This is not a special offer\")\n",
    "        print('\\n')\n",
    "        val = input(\"Is that correct?\\n\\n\")\n",
    "    else:\n",
    "        print('\\n')\n",
    "        print(\"This is a special offer\")\n",
    "        print('\\n')\n",
    "        val = input(\"Is that correct?\\n\\n\")"
   ]
  },
  {
   "cell_type": "code",
   "execution_count": 141,
   "metadata": {},
   "outputs": [
    {
     "name": "stdout",
     "output_type": "stream",
     "text": [
      "Type your subject line below\n",
      "\n",
      "Get ready to save big!\n",
      "\n",
      "\n",
      "This is a special offer\n",
      "\n",
      "\n",
      "Is that correct?\n",
      "\n",
      "Yes\n"
     ]
    }
   ],
   "source": [
    "message = input(\"Type your subject line below\\n\\n\")\n",
    "spec_offer(message)"
   ]
  },
  {
   "cell_type": "markdown",
   "metadata": {},
   "source": [
    "Learn more about our big company - Yes\n",
    "Get big savings all this week! - Yes\n",
    "Get ready to save big! - Yes\n",
    "They improved performance by 50-70% - Yes\n",
    "Get ready for our Fall Extravaganza! Save big! - Yes\n",
    "Don't wait! 30% off all items with free shipping! - Yes\n",
    "Fall clearance - Yes\n",
    "Up to 72.4% off! - Yes\n",
    "Upto72.4% off - Yes"
   ]
  }
 ],
 "metadata": {
  "kernelspec": {
   "display_name": "Python 3 (ipykernel)",
   "language": "python",
   "name": "python3"
  },
  "language_info": {
   "codemirror_mode": {
    "name": "ipython",
    "version": 3
   },
   "file_extension": ".py",
   "mimetype": "text/x-python",
   "name": "python",
   "nbconvert_exporter": "python",
   "pygments_lexer": "ipython3",
   "version": "3.9.12"
  }
 },
 "nbformat": 4,
 "nbformat_minor": 2
}
